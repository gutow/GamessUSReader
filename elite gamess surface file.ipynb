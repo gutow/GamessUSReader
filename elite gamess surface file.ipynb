{
 "cells": [
  {
   "cell_type": "code",
   "execution_count": 1,
   "id": "recognized-blast",
   "metadata": {},
   "outputs": [],
   "source": [
    "def eliteSurf(filepath):\n",
    "    from os import path as path\n",
    "    file = open(filepath, 'r')\n",
    "    filename = path.basename(filepath)\n",
    "    pathname = path.dirname(filepath)\n",
    "    name,ext = path.splitext(filename)\n",
    "    outname = path.join(pathname, name+'_slim'+ ext)\n",
    "    out = open(outname,'w')\n",
    "    notEOF = True\n",
    "    count = 0\n",
    "    print('Reading file ',end='')\n",
    "    line = file.readline()\n",
    "    while notEOF and line.find('SURFACE MAPPING GEOMETRY')<0:\n",
    "        if line == '':\n",
    "            notEOF = False\n",
    "        out.write(line)\n",
    "        line=file.readline()\n",
    "        count +=1\n",
    "    while (notEOF):\n",
    "        if line == '':\n",
    "            notEOF = False\n",
    "        if line.find('SURFACE MAPPING GEOMETRY')>-1:\n",
    "            out.write(line)\n",
    "            line = file.readline()\n",
    "            out.write(line)\n",
    "            line = file.readline()\n",
    "            out.write(line)\n",
    "            count+=1\n",
    "            if count%100 == 0:\n",
    "                print('.',end='')\n",
    "        line = file.readline()\n",
    "    file.close()\n",
    "    out.close()\n",
    "    pass"
   ]
  },
  {
   "cell_type": "code",
   "execution_count": 42,
   "id": "caroline-mailing",
   "metadata": {},
   "outputs": [
    {
     "name": "stdout",
     "output_type": "stream",
     "text": [
      "Reading file ........."
     ]
    }
   ],
   "source": [
    "eliteSurf('FHF-course.out')"
   ]
  },
  {
   "cell_type": "code",
   "execution_count": 2,
   "id": "accepting-burns",
   "metadata": {},
   "outputs": [
    {
     "name": "stdout",
     "output_type": "stream",
     "text": [
      "Reading file ........."
     ]
    }
   ],
   "source": [
    "eliteSurf('(HF)_2_H-bond_surf.log')"
   ]
  },
  {
   "cell_type": "code",
   "execution_count": null,
   "id": "planned-multimedia",
   "metadata": {},
   "outputs": [],
   "source": [
    "eliteSurf('(HF)_2_H-bond_surf.log')"
   ]
  }
 ],
 "metadata": {
  "kernelspec": {
   "display_name": "Python 3",
   "language": "python",
   "name": "python3"
  },
  "language_info": {
   "codemirror_mode": {
    "name": "ipython",
    "version": 3
   },
   "file_extension": ".py",
   "mimetype": "text/x-python",
   "name": "python",
   "nbconvert_exporter": "python",
   "pygments_lexer": "ipython3",
   "version": "3.8.5"
  }
 },
 "nbformat": 4,
 "nbformat_minor": 5
}

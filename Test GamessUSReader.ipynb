{
 "cells": [
  {
   "cell_type": "code",
   "execution_count": 1,
   "id": "protective-hobby",
   "metadata": {},
   "outputs": [
    {
     "name": "stdout",
     "output_type": "stream",
     "text": [
      "Reading file ....."
     ]
    },
    {
     "data": {
      "text/plain": [
       "<AxesSubplot:xlabel='$\\\\Delta R_{F_{(2)}F_{(1)}}\\\\,(\\\\AA)$', ylabel='Energy (au)'>"
      ]
     },
     "execution_count": 1,
     "metadata": {},
     "output_type": "execute_result"
    },
    {
     "data": {
      "image/png": "[encoded data removed]",
      "text/plain": [
       "<Figure size 432x288 with 1 Axes>"
      ]
     },
     "metadata": {
      "needs_background": "light"
     },
     "output_type": "display_data"
    }
   ],
   "source": [
    "from GamessUSReader import *\n",
    "# Energy versus offset from equilibrium bond length for FF(-).\n",
    "oneD = GamessSurf('F2-bond_slim.out')\n",
    "oneD.plot()"
   ]
  },
  {
   "cell_type": "code",
   "execution_count": 2,
   "id": "cooperative-cardiff",
   "metadata": {},
   "outputs": [
    {
     "data": {
      "text/plain": [
       "[[0.0, 0.0, -198.860864]]"
      ]
     },
     "execution_count": 2,
     "metadata": {},
     "output_type": "execute_result"
    }
   ],
   "source": [
    "oneD.mins()"
   ]
  },
  {
   "cell_type": "code",
   "execution_count": 3,
   "id": "proper-funeral",
   "metadata": {},
   "outputs": [
    {
     "name": "stdout",
     "output_type": "stream",
     "text": [
      "Reading file .............."
     ]
    },
    {
     "data": {
      "application/vnd.jupyter.widget-view+json": {
       "model_id": "abe4882c62ab45c3b528d24136156a29",
       "version_major": 2,
       "version_minor": 0
      },
      "text/plain": [
       "Output()"
      ]
     },
     "metadata": {},
     "output_type": "display_data"
    }
   ],
   "source": [
    "# Symmetric hydrogen bond in FHF(-) verus the two F-H distances.\n",
    "FHF_minus = GamessSurf('FHF-course_slim.out')\n",
    "FHF_minus.plot()"
   ]
  },
  {
   "cell_type": "code",
   "execution_count": 7,
   "id": "central-grenada",
   "metadata": {},
   "outputs": [
    {
     "data": {
      "text/plain": [
       "[[0.2, 0.2, -199.576639]]"
      ]
     },
     "execution_count": 7,
     "metadata": {},
     "output_type": "execute_result"
    }
   ],
   "source": [
    "FHF_minus.mins()"
   ]
  },
  {
   "cell_type": "code",
   "execution_count": 23,
   "id": "spoken-damages",
   "metadata": {
    "scrolled": true
   },
   "outputs": [
    {
     "data": {
      "application/vnd.jupyter.widget-view+json": {
       "model_id": "1a50deaada4549c3a80b82d362bcfe74",
       "version_major": 2,
       "version_minor": 0
      },
      "text/plain": [
       "Output()"
      ]
     },
     "metadata": {},
     "output_type": "display_data"
    }
   ],
   "source": [
    "# Combining surfaces and points using GamessSurf object  and k3d methods.\n",
    "combine = k3d.plot()\n",
    "surf = FHF_minus.ask3dsurf()\n",
    "mx,my,mz = FHF_minus.asmeshgrid()\n",
    "surf.color_range = [np.min(mz), np.average(mz)]\n",
    "surf.flat_shading=False\n",
    "minpt = k3d.points(FHF_minus.mins(),point_size=0.2,color=100)\n",
    "combine += surf + minpt\n",
    "combine.display()"
   ]
  },
  {
   "cell_type": "code",
   "execution_count": 24,
   "id": "available-sculpture",
   "metadata": {},
   "outputs": [
    {
     "name": "stdout",
     "output_type": "stream",
     "text": [
      "Reading file ................"
     ]
    },
    {
     "data": {
      "application/vnd.jupyter.widget-view+json": {
       "model_id": "03faa9e3b7e148ed8d6122075b257e33",
       "version_major": 2,
       "version_minor": 0
      },
      "text/plain": [
       "Output()"
      ]
     },
     "metadata": {},
     "output_type": "display_data"
    }
   ],
   "source": [
    "# Hydrogen bond between two HF molecules versus distances of the middle H from the two Fs.\n",
    "# the middle hydrogen is primarily bonded to F #1.\n",
    "FHFH = GamessSurf('(HF)_2_H-bond_surf_slim.log')\n",
    "FHFH.plot()"
   ]
  },
  {
   "cell_type": "code",
   "execution_count": null,
   "id": "systematic-brown",
   "metadata": {},
   "outputs": [],
   "source": [
    "help('G')"
   ]
  }
 ],
 "metadata": {
  "kernelspec": {
   "display_name": "Python 3",
   "language": "python",
   "name": "python3"
  },
  "language_info": {
   "codemirror_mode": {
    "name": "ipython",
    "version": 3
   },
   "file_extension": ".py",
   "mimetype": "text/x-python",
   "name": "python",
   "nbconvert_exporter": "python",
   "pygments_lexer": "ipython3",
   "version": "3.8.5"
  }
 },
 "nbformat": 4,
 "nbformat_minor": 5
}

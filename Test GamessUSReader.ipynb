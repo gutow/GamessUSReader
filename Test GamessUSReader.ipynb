{
 "cells": [
  {
   "cell_type": "code",
   "execution_count": 2,
   "id": "protective-hobby",
   "metadata": {},
   "outputs": [
    {
     "name": "stdout",
     "output_type": "stream",
     "text": [
      "Reading file ....."
     ]
    },
    {
     "data": {
      "text/plain": [
       "<AxesSubplot:xlabel='$R_{F_{(2)}F_{(1)}}\\\\,(\\\\AA)$', ylabel='Energy (au)'>"
      ]
     },
     "execution_count": 2,
     "metadata": {},
     "output_type": "execute_result"
    },
    {
     "data": {
      "image/png": "[encoded data removed]",
      "text/plain": [
       "<Figure size 432x288 with 1 Axes>"
      ]
     },
     "metadata": {
      "needs_background": "light"
     },
     "output_type": "display_data"
    }
   ],
   "source": [
    "from GamessUSReader import *\n",
    "\n",
    "oneD = GamessSurf('F2-bond.out')\n",
    "oneD.plot()"
   ]
  },
  {
   "cell_type": "code",
   "execution_count": 4,
   "id": "cooperative-cardiff",
   "metadata": {},
   "outputs": [
    {
     "data": {
      "text/plain": [
       "[[0.0, 0.0, -198.860864]]"
      ]
     },
     "execution_count": 4,
     "metadata": {},
     "output_type": "execute_result"
    }
   ],
   "source": [
    "oneD.mins()"
   ]
  },
  {
   "cell_type": "code",
   "execution_count": 5,
   "id": "boxed-london",
   "metadata": {},
   "outputs": [
    {
     "name": "stdout",
     "output_type": "stream",
     "text": [
      "Reading file ........................................................................................................."
     ]
    }
   ],
   "source": [
    "twoD = GamessSurf('FHF-/FHF-surf-large.out')"
   ]
  },
  {
   "cell_type": "code",
   "execution_count": 6,
   "id": "nervous-ghana",
   "metadata": {},
   "outputs": [
    {
     "data": {
      "application/vnd.jupyter.widget-view+json": {
       "model_id": "bcf9b70bd28a4a90af0e64171857fe58",
       "version_major": 2,
       "version_minor": 0
      },
      "text/plain": [
       "Output()"
      ]
     },
     "metadata": {},
     "output_type": "display_data"
    }
   ],
   "source": [
    "twoD.plot()"
   ]
  },
  {
   "cell_type": "code",
   "execution_count": 7,
   "id": "dental-romantic",
   "metadata": {},
   "outputs": [
    {
     "data": {
      "text/plain": [
       "[[0.15, 0.2, -199.577693], [0.2, 0.15, -199.577693]]"
      ]
     },
     "execution_count": 7,
     "metadata": {},
     "output_type": "execute_result"
    }
   ],
   "source": [
    "twoD.mins()"
   ]
  },
  {
   "cell_type": "code",
   "execution_count": 17,
   "id": "practical-captain",
   "metadata": {},
   "outputs": [
    {
     "data": {
      "text/plain": [
       "(-197.473548, -199.293652510601)"
      ]
     },
     "execution_count": 17,
     "metadata": {},
     "output_type": "execute_result"
    }
   ],
   "source": [
    "zmax = twoD.points[0][2]\n",
    "zavg = 0\n",
    "for k in twoD.points:\n",
    "    if k[2] > zmax:\n",
    "        zmax = k[2]\n",
    "    zavg+=k[2]\n",
    "zavg = zavg/len(twoD.points)\n",
    "zmax,zavg"
   ]
  },
  {
   "cell_type": "code",
   "execution_count": 8,
   "id": "computational-prague",
   "metadata": {},
   "outputs": [
    {
     "data": {
      "text/html": [
       "<div>\n",
       "<style scoped>\n",
       "    .dataframe tbody tr th:only-of-type {\n",
       "        vertical-align: middle;\n",
       "    }\n",
       "\n",
       "    .dataframe tbody tr th {\n",
       "        vertical-align: top;\n",
       "    }\n",
       "\n",
       "    .dataframe thead th {\n",
       "        text-align: right;\n",
       "    }\n",
       "</style>\n",
       "<table border=\"1\" class=\"dataframe\">\n",
       "  <thead>\n",
       "    <tr style=\"text-align: right;\">\n",
       "      <th></th>\n",
       "      <th>R_{H_{(2)}F_{(1)}}</th>\n",
       "      <th>R_{H_{(2)}F_{(3)}}</th>\n",
       "      <th>Energy (au)</th>\n",
       "    </tr>\n",
       "  </thead>\n",
       "  <tbody>\n",
       "    <tr>\n",
       "      <th>0</th>\n",
       "      <td>-0.40</td>\n",
       "      <td>-0.40</td>\n",
       "      <td>-197.473548</td>\n",
       "    </tr>\n",
       "    <tr>\n",
       "      <th>1</th>\n",
       "      <td>-0.40</td>\n",
       "      <td>-0.35</td>\n",
       "      <td>-197.759295</td>\n",
       "    </tr>\n",
       "    <tr>\n",
       "      <th>2</th>\n",
       "      <td>-0.40</td>\n",
       "      <td>-0.30</td>\n",
       "      <td>-198.026730</td>\n",
       "    </tr>\n",
       "    <tr>\n",
       "      <th>3</th>\n",
       "      <td>-0.40</td>\n",
       "      <td>-0.25</td>\n",
       "      <td>-198.249601</td>\n",
       "    </tr>\n",
       "    <tr>\n",
       "      <th>4</th>\n",
       "      <td>-0.40</td>\n",
       "      <td>-0.20</td>\n",
       "      <td>-198.430113</td>\n",
       "    </tr>\n",
       "    <tr>\n",
       "      <th>...</th>\n",
       "      <td>...</td>\n",
       "      <td>...</td>\n",
       "      <td>...</td>\n",
       "    </tr>\n",
       "    <tr>\n",
       "      <th>9995</th>\n",
       "      <td>4.55</td>\n",
       "      <td>4.35</td>\n",
       "      <td>-199.101845</td>\n",
       "    </tr>\n",
       "    <tr>\n",
       "      <th>9996</th>\n",
       "      <td>4.55</td>\n",
       "      <td>4.40</td>\n",
       "      <td>-199.101435</td>\n",
       "    </tr>\n",
       "    <tr>\n",
       "      <th>9997</th>\n",
       "      <td>4.55</td>\n",
       "      <td>4.45</td>\n",
       "      <td>-199.101037</td>\n",
       "    </tr>\n",
       "    <tr>\n",
       "      <th>9998</th>\n",
       "      <td>4.55</td>\n",
       "      <td>4.50</td>\n",
       "      <td>-199.100650</td>\n",
       "    </tr>\n",
       "    <tr>\n",
       "      <th>9999</th>\n",
       "      <td>4.55</td>\n",
       "      <td>4.55</td>\n",
       "      <td>-199.100275</td>\n",
       "    </tr>\n",
       "  </tbody>\n",
       "</table>\n",
       "<p>10000 rows × 3 columns</p>\n",
       "</div>"
      ],
      "text/plain": [
       "      R_{H_{(2)}F_{(1)}}  R_{H_{(2)}F_{(3)}}  Energy (au)\n",
       "0                  -0.40               -0.40  -197.473548\n",
       "1                  -0.40               -0.35  -197.759295\n",
       "2                  -0.40               -0.30  -198.026730\n",
       "3                  -0.40               -0.25  -198.249601\n",
       "4                  -0.40               -0.20  -198.430113\n",
       "...                  ...                 ...          ...\n",
       "9995                4.55                4.35  -199.101845\n",
       "9996                4.55                4.40  -199.101435\n",
       "9997                4.55                4.45  -199.101037\n",
       "9998                4.55                4.50  -199.100650\n",
       "9999                4.55                4.55  -199.100275\n",
       "\n",
       "[10000 rows x 3 columns]"
      ]
     },
     "execution_count": 8,
     "metadata": {},
     "output_type": "execute_result"
    }
   ],
   "source": [
    "twoDpd = twoD.aspandas()\n",
    "twoDpd"
   ]
  },
  {
   "cell_type": "code",
   "execution_count": 13,
   "id": "swedish-system",
   "metadata": {},
   "outputs": [
    {
     "data": {
      "application/vnd.jupyter.widget-view+json": {
       "model_id": "3daff6b10bef42a4bf7aca48d6d2682c",
       "version_major": 2,
       "version_minor": 0
      },
      "text/plain": [
       "Output()"
      ]
     },
     "metadata": {},
     "output_type": "display_data"
    }
   ],
   "source": [
    "twoDplot = twoD.ask3dplot()\n",
    "twoDplot += k3d.points(twoD.mins())\n",
    "twoDplot.display()"
   ]
  },
  {
   "cell_type": "code",
   "execution_count": 18,
   "id": "loose-directory",
   "metadata": {},
   "outputs": [
    {
     "name": "stdout",
     "output_type": "stream",
     "text": [
      "Reading file .............."
     ]
    }
   ],
   "source": [
    "course = GamessSurf('FHF-/FHF-course.out')"
   ]
  },
  {
   "cell_type": "code",
   "execution_count": 19,
   "id": "heated-husband",
   "metadata": {},
   "outputs": [
    {
     "data": {
      "application/vnd.jupyter.widget-view+json": {
       "model_id": "43d5efeb94f5444e85a3d37ec8bd6e82",
       "version_major": 2,
       "version_minor": 0
      },
      "text/plain": [
       "Output()"
      ]
     },
     "metadata": {},
     "output_type": "display_data"
    }
   ],
   "source": [
    "course.plot()"
   ]
  },
  {
   "cell_type": "code",
   "execution_count": 20,
   "id": "joined-artist",
   "metadata": {},
   "outputs": [
    {
     "name": "stdout",
     "output_type": "stream",
     "text": [
      "Reading file .............."
     ]
    }
   ],
   "source": [
    "fine = GamessSurf('FHF-/FHF-fine.out')"
   ]
  },
  {
   "cell_type": "code",
   "execution_count": 21,
   "id": "romantic-anthropology",
   "metadata": {},
   "outputs": [
    {
     "data": {
      "application/vnd.jupyter.widget-view+json": {
       "model_id": "b665b70011b745f0946ea8a31726020b",
       "version_major": 2,
       "version_minor": 0
      },
      "text/plain": [
       "Output()"
      ]
     },
     "metadata": {},
     "output_type": "display_data"
    }
   ],
   "source": [
    "fine.plot()"
   ]
  },
  {
   "cell_type": "code",
   "execution_count": 23,
   "id": "challenging-cliff",
   "metadata": {},
   "outputs": [
    {
     "data": {
      "application/vnd.jupyter.widget-view+json": {
       "model_id": "2166791f6a9c46ac90d749e3eeda627c",
       "version_major": 2,
       "version_minor": 0
      },
      "text/plain": [
       "Output()"
      ]
     },
     "metadata": {},
     "output_type": "display_data"
    }
   ],
   "source": [
    "both = course.ask3dplot()\n",
    "both += fine.ask3dsurf()\n",
    "both.display()"
   ]
  },
  {
   "cell_type": "code",
   "execution_count": 24,
   "id": "uniform-transformation",
   "metadata": {},
   "outputs": [
    {
     "data": {
      "text/plain": [
       "[[0.15, 0.2, -199.577693], [0.2, 0.15, -199.577693]]"
      ]
     },
     "execution_count": 24,
     "metadata": {},
     "output_type": "execute_result"
    }
   ],
   "source": [
    "fine.mins()"
   ]
  },
  {
   "cell_type": "code",
   "execution_count": 2,
   "id": "proper-funeral",
   "metadata": {},
   "outputs": [
    {
     "name": "stdout",
     "output_type": "stream",
     "text": [
      "Reading file .............."
     ]
    },
    {
     "data": {
      "application/vnd.jupyter.widget-view+json": {
       "model_id": "3aa78c10c1484d5589dd4efc91c7e3b9",
       "version_major": 2,
       "version_minor": 0
      },
      "text/plain": [
       "Output()"
      ]
     },
     "metadata": {},
     "output_type": "display_data"
    }
   ],
   "source": [
    "from GamessUSReader import *\n",
    "slim = GamessSurf('FHF-course_slim.out')\n",
    "slim.plot()"
   ]
  },
  {
   "cell_type": "code",
   "execution_count": 2,
   "id": "conditional-amplifier",
   "metadata": {},
   "outputs": [
    {
     "data": {
      "application/vnd.jupyter.widget-view+json": {
       "model_id": "d7ebdb5ae43f493daec7e9110ee0d93c",
       "version_major": 2,
       "version_minor": 0
      },
      "text/plain": [
       "Output()"
      ]
     },
     "metadata": {},
     "output_type": "display_data"
    }
   ],
   "source": [
    "slim.plot()"
   ]
  },
  {
   "cell_type": "code",
   "execution_count": 1,
   "id": "spoken-damages",
   "metadata": {},
   "outputs": [
    {
     "name": "stdout",
     "output_type": "stream",
     "text": [
      "Reading file .............."
     ]
    },
    {
     "data": {
      "application/vnd.jupyter.widget-view+json": {
       "model_id": "2ad06a25b3bc48a7adc56b49fb9fc260",
       "version_major": 2,
       "version_minor": 0
      },
      "text/plain": [
       "Output()"
      ]
     },
     "metadata": {},
     "output_type": "display_data"
    }
   ],
   "source": [
    "from GamessUSReader import *\n",
    "slimfine = GamessSurf('FHF-fine_slim.out')\n",
    "slimfine.plot()"
   ]
  },
  {
   "cell_type": "code",
   "execution_count": null,
   "id": "tough-waste",
   "metadata": {},
   "outputs": [],
   "source": []
  }
 ],
 "metadata": {
  "kernelspec": {
   "display_name": "Python 3",
   "language": "python",
   "name": "python3"
  },
  "language_info": {
   "codemirror_mode": {
    "name": "ipython",
    "version": 3
   },
   "file_extension": ".py",
   "mimetype": "text/x-python",
   "name": "python",
   "nbconvert_exporter": "python",
   "pygments_lexer": "ipython3",
   "version": "3.8.5"
  }
 },
 "nbformat": 4,
 "nbformat_minor": 5
}
